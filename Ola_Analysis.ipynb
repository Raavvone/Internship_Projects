{
  "nbformat": 4,
  "nbformat_minor": 0,
  "metadata": {
    "colab": {
      "provenance": [],
      "authorship_tag": "ABX9TyPIQY4WoGH8pLZtflaKiDMn",
      "include_colab_link": true
    },
    "kernelspec": {
      "name": "python3",
      "display_name": "Python 3"
    },
    "language_info": {
      "name": "python"
    }
  },
  "cells": [
    {
      "cell_type": "markdown",
      "metadata": {
        "id": "view-in-github",
        "colab_type": "text"
      },
      "source": [
        "<a href=\"https://colab.research.google.com/github/Raavvone/Internship_Projects/blob/main/Ola_Analysis.ipynb\" target=\"_parent\"><img src=\"https://colab.research.google.com/assets/colab-badge.svg\" alt=\"Open In Colab\"/></a>"
      ]
    },
    {
      "cell_type": "markdown",
      "source": [
        "# **OLA CASE STUDY ANALYSIS**"
      ],
      "metadata": {
        "id": "xx0e_DyMmu4B"
      }
    },
    {
      "cell_type": "markdown",
      "source": [
        "# Problem Statemnet:\n",
        "\n",
        "Recruiting and retaining drivers is seen by industry watchers as a tough battle for Ola. Churn among drivers is high and it’s very easy for drivers to stop working for the service on the fly or jump to Uber depending on the rates. As the companies get bigger, the high churn could become a bigger problem. To find new drivers, Ola is casting a wide net, including people who don’t have cars for jobs. But this acquisition is really costly. Losing drivers frequently impacts the morale of the organization and acquiring new drivers is more expensive than retaining existing ones."
      ],
      "metadata": {
        "id": "QFSa5iUHm1zm"
      }
    },
    {
      "cell_type": "markdown",
      "source": [
        "# Objective:\n",
        "\n",
        "Analyze the given driver dataset to understand:\n",
        "\n",
        "*   Which factors contribute to drivers leaving the platform.\n",
        "*   How demographic, income, rating, and trip data relate to attrition.\n",
        "*   What insights Ola can use to reduce churn and improve retention."
      ],
      "metadata": {
        "id": "EbxxLkAEm7iV"
      }
    },
    {
      "cell_type": "markdown",
      "source": [
        "# Data Structure and Overview"
      ],
      "metadata": {
        "id": "jtQddBR5ouc2"
      }
    },
    {
      "cell_type": "code",
      "source": [
        "import pandas as pd # importing pandas for analysis"
      ],
      "metadata": {
        "id": "8_5hLCy-oAqD"
      },
      "execution_count": 1,
      "outputs": []
    },
    {
      "cell_type": "code",
      "source": [
        "# First look of the dataset\n",
        "\n",
        "df= pd.read_csv(\"/content/ola_driver.csv\")\n",
        "df"
      ],
      "metadata": {
        "colab": {
          "base_uri": "https://localhost:8080/",
          "height": 513
        },
        "id": "tpFCm_o8oLF9",
        "outputId": "021e19a8-f984-42ba-b379-53238cdf0847"
      },
      "execution_count": 2,
      "outputs": [
        {
          "output_type": "stream",
          "name": "stderr",
          "text": [
            "/usr/local/lib/python3.11/dist-packages/google/colab/_dataframe_summarizer.py:88: UserWarning: Could not infer format, so each element will be parsed individually, falling back to `dateutil`. To ensure parsing is consistent and as-expected, please specify a format.\n",
            "  cast_date_col = pd.to_datetime(column, errors=\"coerce\")\n"
          ]
        },
        {
          "output_type": "execute_result",
          "data": {
            "text/plain": [
              "       Unnamed: 0    MMM-YY  Driver_ID   Age  Gender City  Education_Level  \\\n",
              "0               0  01/01/19          1  28.0     0.0  C23                2   \n",
              "1               1  02/01/19          1  28.0     0.0  C23                2   \n",
              "2               2  03/01/19          1  28.0     0.0  C23                2   \n",
              "3               3  11/01/20          2  31.0     0.0   C7                2   \n",
              "4               4  12/01/20          2  31.0     0.0   C7                2   \n",
              "...           ...       ...        ...   ...     ...  ...              ...   \n",
              "19099       19099  08/01/20       2788  30.0     0.0  C27                2   \n",
              "19100       19100  09/01/20       2788  30.0     0.0  C27                2   \n",
              "19101       19101  10/01/20       2788  30.0     0.0  C27                2   \n",
              "19102       19102  11/01/20       2788  30.0     0.0  C27                2   \n",
              "19103       19103  12/01/20       2788  30.0     0.0  C27                2   \n",
              "\n",
              "       Income Dateofjoining LastWorkingDate  Joining Designation  Grade  \\\n",
              "0       57387      24/12/18             NaN                    1      1   \n",
              "1       57387      24/12/18             NaN                    1      1   \n",
              "2       57387      24/12/18        03/11/19                    1      1   \n",
              "3       67016      11/06/20             NaN                    2      2   \n",
              "4       67016      11/06/20             NaN                    2      2   \n",
              "...       ...           ...             ...                  ...    ...   \n",
              "19099   70254      06/08/20             NaN                    2      2   \n",
              "19100   70254      06/08/20             NaN                    2      2   \n",
              "19101   70254      06/08/20             NaN                    2      2   \n",
              "19102   70254      06/08/20             NaN                    2      2   \n",
              "19103   70254      06/08/20             NaN                    2      2   \n",
              "\n",
              "       Total Business Value  Quarterly Rating  \n",
              "0                   2381060                 2  \n",
              "1                   -665480                 2  \n",
              "2                         0                 2  \n",
              "3                         0                 1  \n",
              "4                         0                 1  \n",
              "...                     ...               ...  \n",
              "19099                740280                 3  \n",
              "19100                448370                 3  \n",
              "19101                     0                 2  \n",
              "19102                200420                 2  \n",
              "19103                411480                 2  \n",
              "\n",
              "[19104 rows x 14 columns]"
            ],
            "text/html": [
              "\n",
              "  <div id=\"df-8a769832-24cb-46e9-8d31-de873742f7f8\" class=\"colab-df-container\">\n",
              "    <div>\n",
              "<style scoped>\n",
              "    .dataframe tbody tr th:only-of-type {\n",
              "        vertical-align: middle;\n",
              "    }\n",
              "\n",
              "    .dataframe tbody tr th {\n",
              "        vertical-align: top;\n",
              "    }\n",
              "\n",
              "    .dataframe thead th {\n",
              "        text-align: right;\n",
              "    }\n",
              "</style>\n",
              "<table border=\"1\" class=\"dataframe\">\n",
              "  <thead>\n",
              "    <tr style=\"text-align: right;\">\n",
              "      <th></th>\n",
              "      <th>Unnamed: 0</th>\n",
              "      <th>MMM-YY</th>\n",
              "      <th>Driver_ID</th>\n",
              "      <th>Age</th>\n",
              "      <th>Gender</th>\n",
              "      <th>City</th>\n",
              "      <th>Education_Level</th>\n",
              "      <th>Income</th>\n",
              "      <th>Dateofjoining</th>\n",
              "      <th>LastWorkingDate</th>\n",
              "      <th>Joining Designation</th>\n",
              "      <th>Grade</th>\n",
              "      <th>Total Business Value</th>\n",
              "      <th>Quarterly Rating</th>\n",
              "    </tr>\n",
              "  </thead>\n",
              "  <tbody>\n",
              "    <tr>\n",
              "      <th>0</th>\n",
              "      <td>0</td>\n",
              "      <td>01/01/19</td>\n",
              "      <td>1</td>\n",
              "      <td>28.0</td>\n",
              "      <td>0.0</td>\n",
              "      <td>C23</td>\n",
              "      <td>2</td>\n",
              "      <td>57387</td>\n",
              "      <td>24/12/18</td>\n",
              "      <td>NaN</td>\n",
              "      <td>1</td>\n",
              "      <td>1</td>\n",
              "      <td>2381060</td>\n",
              "      <td>2</td>\n",
              "    </tr>\n",
              "    <tr>\n",
              "      <th>1</th>\n",
              "      <td>1</td>\n",
              "      <td>02/01/19</td>\n",
              "      <td>1</td>\n",
              "      <td>28.0</td>\n",
              "      <td>0.0</td>\n",
              "      <td>C23</td>\n",
              "      <td>2</td>\n",
              "      <td>57387</td>\n",
              "      <td>24/12/18</td>\n",
              "      <td>NaN</td>\n",
              "      <td>1</td>\n",
              "      <td>1</td>\n",
              "      <td>-665480</td>\n",
              "      <td>2</td>\n",
              "    </tr>\n",
              "    <tr>\n",
              "      <th>2</th>\n",
              "      <td>2</td>\n",
              "      <td>03/01/19</td>\n",
              "      <td>1</td>\n",
              "      <td>28.0</td>\n",
              "      <td>0.0</td>\n",
              "      <td>C23</td>\n",
              "      <td>2</td>\n",
              "      <td>57387</td>\n",
              "      <td>24/12/18</td>\n",
              "      <td>03/11/19</td>\n",
              "      <td>1</td>\n",
              "      <td>1</td>\n",
              "      <td>0</td>\n",
              "      <td>2</td>\n",
              "    </tr>\n",
              "    <tr>\n",
              "      <th>3</th>\n",
              "      <td>3</td>\n",
              "      <td>11/01/20</td>\n",
              "      <td>2</td>\n",
              "      <td>31.0</td>\n",
              "      <td>0.0</td>\n",
              "      <td>C7</td>\n",
              "      <td>2</td>\n",
              "      <td>67016</td>\n",
              "      <td>11/06/20</td>\n",
              "      <td>NaN</td>\n",
              "      <td>2</td>\n",
              "      <td>2</td>\n",
              "      <td>0</td>\n",
              "      <td>1</td>\n",
              "    </tr>\n",
              "    <tr>\n",
              "      <th>4</th>\n",
              "      <td>4</td>\n",
              "      <td>12/01/20</td>\n",
              "      <td>2</td>\n",
              "      <td>31.0</td>\n",
              "      <td>0.0</td>\n",
              "      <td>C7</td>\n",
              "      <td>2</td>\n",
              "      <td>67016</td>\n",
              "      <td>11/06/20</td>\n",
              "      <td>NaN</td>\n",
              "      <td>2</td>\n",
              "      <td>2</td>\n",
              "      <td>0</td>\n",
              "      <td>1</td>\n",
              "    </tr>\n",
              "    <tr>\n",
              "      <th>...</th>\n",
              "      <td>...</td>\n",
              "      <td>...</td>\n",
              "      <td>...</td>\n",
              "      <td>...</td>\n",
              "      <td>...</td>\n",
              "      <td>...</td>\n",
              "      <td>...</td>\n",
              "      <td>...</td>\n",
              "      <td>...</td>\n",
              "      <td>...</td>\n",
              "      <td>...</td>\n",
              "      <td>...</td>\n",
              "      <td>...</td>\n",
              "      <td>...</td>\n",
              "    </tr>\n",
              "    <tr>\n",
              "      <th>19099</th>\n",
              "      <td>19099</td>\n",
              "      <td>08/01/20</td>\n",
              "      <td>2788</td>\n",
              "      <td>30.0</td>\n",
              "      <td>0.0</td>\n",
              "      <td>C27</td>\n",
              "      <td>2</td>\n",
              "      <td>70254</td>\n",
              "      <td>06/08/20</td>\n",
              "      <td>NaN</td>\n",
              "      <td>2</td>\n",
              "      <td>2</td>\n",
              "      <td>740280</td>\n",
              "      <td>3</td>\n",
              "    </tr>\n",
              "    <tr>\n",
              "      <th>19100</th>\n",
              "      <td>19100</td>\n",
              "      <td>09/01/20</td>\n",
              "      <td>2788</td>\n",
              "      <td>30.0</td>\n",
              "      <td>0.0</td>\n",
              "      <td>C27</td>\n",
              "      <td>2</td>\n",
              "      <td>70254</td>\n",
              "      <td>06/08/20</td>\n",
              "      <td>NaN</td>\n",
              "      <td>2</td>\n",
              "      <td>2</td>\n",
              "      <td>448370</td>\n",
              "      <td>3</td>\n",
              "    </tr>\n",
              "    <tr>\n",
              "      <th>19101</th>\n",
              "      <td>19101</td>\n",
              "      <td>10/01/20</td>\n",
              "      <td>2788</td>\n",
              "      <td>30.0</td>\n",
              "      <td>0.0</td>\n",
              "      <td>C27</td>\n",
              "      <td>2</td>\n",
              "      <td>70254</td>\n",
              "      <td>06/08/20</td>\n",
              "      <td>NaN</td>\n",
              "      <td>2</td>\n",
              "      <td>2</td>\n",
              "      <td>0</td>\n",
              "      <td>2</td>\n",
              "    </tr>\n",
              "    <tr>\n",
              "      <th>19102</th>\n",
              "      <td>19102</td>\n",
              "      <td>11/01/20</td>\n",
              "      <td>2788</td>\n",
              "      <td>30.0</td>\n",
              "      <td>0.0</td>\n",
              "      <td>C27</td>\n",
              "      <td>2</td>\n",
              "      <td>70254</td>\n",
              "      <td>06/08/20</td>\n",
              "      <td>NaN</td>\n",
              "      <td>2</td>\n",
              "      <td>2</td>\n",
              "      <td>200420</td>\n",
              "      <td>2</td>\n",
              "    </tr>\n",
              "    <tr>\n",
              "      <th>19103</th>\n",
              "      <td>19103</td>\n",
              "      <td>12/01/20</td>\n",
              "      <td>2788</td>\n",
              "      <td>30.0</td>\n",
              "      <td>0.0</td>\n",
              "      <td>C27</td>\n",
              "      <td>2</td>\n",
              "      <td>70254</td>\n",
              "      <td>06/08/20</td>\n",
              "      <td>NaN</td>\n",
              "      <td>2</td>\n",
              "      <td>2</td>\n",
              "      <td>411480</td>\n",
              "      <td>2</td>\n",
              "    </tr>\n",
              "  </tbody>\n",
              "</table>\n",
              "<p>19104 rows × 14 columns</p>\n",
              "</div>\n",
              "    <div class=\"colab-df-buttons\">\n",
              "\n",
              "  <div class=\"colab-df-container\">\n",
              "    <button class=\"colab-df-convert\" onclick=\"convertToInteractive('df-8a769832-24cb-46e9-8d31-de873742f7f8')\"\n",
              "            title=\"Convert this dataframe to an interactive table.\"\n",
              "            style=\"display:none;\">\n",
              "\n",
              "  <svg xmlns=\"http://www.w3.org/2000/svg\" height=\"24px\" viewBox=\"0 -960 960 960\">\n",
              "    <path d=\"M120-120v-720h720v720H120Zm60-500h600v-160H180v160Zm220 220h160v-160H400v160Zm0 220h160v-160H400v160ZM180-400h160v-160H180v160Zm440 0h160v-160H620v160ZM180-180h160v-160H180v160Zm440 0h160v-160H620v160Z\"/>\n",
              "  </svg>\n",
              "    </button>\n",
              "\n",
              "  <style>\n",
              "    .colab-df-container {\n",
              "      display:flex;\n",
              "      gap: 12px;\n",
              "    }\n",
              "\n",
              "    .colab-df-convert {\n",
              "      background-color: #E8F0FE;\n",
              "      border: none;\n",
              "      border-radius: 50%;\n",
              "      cursor: pointer;\n",
              "      display: none;\n",
              "      fill: #1967D2;\n",
              "      height: 32px;\n",
              "      padding: 0 0 0 0;\n",
              "      width: 32px;\n",
              "    }\n",
              "\n",
              "    .colab-df-convert:hover {\n",
              "      background-color: #E2EBFA;\n",
              "      box-shadow: 0px 1px 2px rgba(60, 64, 67, 0.3), 0px 1px 3px 1px rgba(60, 64, 67, 0.15);\n",
              "      fill: #174EA6;\n",
              "    }\n",
              "\n",
              "    .colab-df-buttons div {\n",
              "      margin-bottom: 4px;\n",
              "    }\n",
              "\n",
              "    [theme=dark] .colab-df-convert {\n",
              "      background-color: #3B4455;\n",
              "      fill: #D2E3FC;\n",
              "    }\n",
              "\n",
              "    [theme=dark] .colab-df-convert:hover {\n",
              "      background-color: #434B5C;\n",
              "      box-shadow: 0px 1px 3px 1px rgba(0, 0, 0, 0.15);\n",
              "      filter: drop-shadow(0px 1px 2px rgba(0, 0, 0, 0.3));\n",
              "      fill: #FFFFFF;\n",
              "    }\n",
              "  </style>\n",
              "\n",
              "    <script>\n",
              "      const buttonEl =\n",
              "        document.querySelector('#df-8a769832-24cb-46e9-8d31-de873742f7f8 button.colab-df-convert');\n",
              "      buttonEl.style.display =\n",
              "        google.colab.kernel.accessAllowed ? 'block' : 'none';\n",
              "\n",
              "      async function convertToInteractive(key) {\n",
              "        const element = document.querySelector('#df-8a769832-24cb-46e9-8d31-de873742f7f8');\n",
              "        const dataTable =\n",
              "          await google.colab.kernel.invokeFunction('convertToInteractive',\n",
              "                                                    [key], {});\n",
              "        if (!dataTable) return;\n",
              "\n",
              "        const docLinkHtml = 'Like what you see? Visit the ' +\n",
              "          '<a target=\"_blank\" href=https://colab.research.google.com/notebooks/data_table.ipynb>data table notebook</a>'\n",
              "          + ' to learn more about interactive tables.';\n",
              "        element.innerHTML = '';\n",
              "        dataTable['output_type'] = 'display_data';\n",
              "        await google.colab.output.renderOutput(dataTable, element);\n",
              "        const docLink = document.createElement('div');\n",
              "        docLink.innerHTML = docLinkHtml;\n",
              "        element.appendChild(docLink);\n",
              "      }\n",
              "    </script>\n",
              "  </div>\n",
              "\n",
              "\n",
              "    <div id=\"df-d5ec6f12-f206-4983-bb37-77961163c0ae\">\n",
              "      <button class=\"colab-df-quickchart\" onclick=\"quickchart('df-d5ec6f12-f206-4983-bb37-77961163c0ae')\"\n",
              "                title=\"Suggest charts\"\n",
              "                style=\"display:none;\">\n",
              "\n",
              "<svg xmlns=\"http://www.w3.org/2000/svg\" height=\"24px\"viewBox=\"0 0 24 24\"\n",
              "     width=\"24px\">\n",
              "    <g>\n",
              "        <path d=\"M19 3H5c-1.1 0-2 .9-2 2v14c0 1.1.9 2 2 2h14c1.1 0 2-.9 2-2V5c0-1.1-.9-2-2-2zM9 17H7v-7h2v7zm4 0h-2V7h2v10zm4 0h-2v-4h2v4z\"/>\n",
              "    </g>\n",
              "</svg>\n",
              "      </button>\n",
              "\n",
              "<style>\n",
              "  .colab-df-quickchart {\n",
              "      --bg-color: #E8F0FE;\n",
              "      --fill-color: #1967D2;\n",
              "      --hover-bg-color: #E2EBFA;\n",
              "      --hover-fill-color: #174EA6;\n",
              "      --disabled-fill-color: #AAA;\n",
              "      --disabled-bg-color: #DDD;\n",
              "  }\n",
              "\n",
              "  [theme=dark] .colab-df-quickchart {\n",
              "      --bg-color: #3B4455;\n",
              "      --fill-color: #D2E3FC;\n",
              "      --hover-bg-color: #434B5C;\n",
              "      --hover-fill-color: #FFFFFF;\n",
              "      --disabled-bg-color: #3B4455;\n",
              "      --disabled-fill-color: #666;\n",
              "  }\n",
              "\n",
              "  .colab-df-quickchart {\n",
              "    background-color: var(--bg-color);\n",
              "    border: none;\n",
              "    border-radius: 50%;\n",
              "    cursor: pointer;\n",
              "    display: none;\n",
              "    fill: var(--fill-color);\n",
              "    height: 32px;\n",
              "    padding: 0;\n",
              "    width: 32px;\n",
              "  }\n",
              "\n",
              "  .colab-df-quickchart:hover {\n",
              "    background-color: var(--hover-bg-color);\n",
              "    box-shadow: 0 1px 2px rgba(60, 64, 67, 0.3), 0 1px 3px 1px rgba(60, 64, 67, 0.15);\n",
              "    fill: var(--button-hover-fill-color);\n",
              "  }\n",
              "\n",
              "  .colab-df-quickchart-complete:disabled,\n",
              "  .colab-df-quickchart-complete:disabled:hover {\n",
              "    background-color: var(--disabled-bg-color);\n",
              "    fill: var(--disabled-fill-color);\n",
              "    box-shadow: none;\n",
              "  }\n",
              "\n",
              "  .colab-df-spinner {\n",
              "    border: 2px solid var(--fill-color);\n",
              "    border-color: transparent;\n",
              "    border-bottom-color: var(--fill-color);\n",
              "    animation:\n",
              "      spin 1s steps(1) infinite;\n",
              "  }\n",
              "\n",
              "  @keyframes spin {\n",
              "    0% {\n",
              "      border-color: transparent;\n",
              "      border-bottom-color: var(--fill-color);\n",
              "      border-left-color: var(--fill-color);\n",
              "    }\n",
              "    20% {\n",
              "      border-color: transparent;\n",
              "      border-left-color: var(--fill-color);\n",
              "      border-top-color: var(--fill-color);\n",
              "    }\n",
              "    30% {\n",
              "      border-color: transparent;\n",
              "      border-left-color: var(--fill-color);\n",
              "      border-top-color: var(--fill-color);\n",
              "      border-right-color: var(--fill-color);\n",
              "    }\n",
              "    40% {\n",
              "      border-color: transparent;\n",
              "      border-right-color: var(--fill-color);\n",
              "      border-top-color: var(--fill-color);\n",
              "    }\n",
              "    60% {\n",
              "      border-color: transparent;\n",
              "      border-right-color: var(--fill-color);\n",
              "    }\n",
              "    80% {\n",
              "      border-color: transparent;\n",
              "      border-right-color: var(--fill-color);\n",
              "      border-bottom-color: var(--fill-color);\n",
              "    }\n",
              "    90% {\n",
              "      border-color: transparent;\n",
              "      border-bottom-color: var(--fill-color);\n",
              "    }\n",
              "  }\n",
              "</style>\n",
              "\n",
              "      <script>\n",
              "        async function quickchart(key) {\n",
              "          const quickchartButtonEl =\n",
              "            document.querySelector('#' + key + ' button');\n",
              "          quickchartButtonEl.disabled = true;  // To prevent multiple clicks.\n",
              "          quickchartButtonEl.classList.add('colab-df-spinner');\n",
              "          try {\n",
              "            const charts = await google.colab.kernel.invokeFunction(\n",
              "                'suggestCharts', [key], {});\n",
              "          } catch (error) {\n",
              "            console.error('Error during call to suggestCharts:', error);\n",
              "          }\n",
              "          quickchartButtonEl.classList.remove('colab-df-spinner');\n",
              "          quickchartButtonEl.classList.add('colab-df-quickchart-complete');\n",
              "        }\n",
              "        (() => {\n",
              "          let quickchartButtonEl =\n",
              "            document.querySelector('#df-d5ec6f12-f206-4983-bb37-77961163c0ae button');\n",
              "          quickchartButtonEl.style.display =\n",
              "            google.colab.kernel.accessAllowed ? 'block' : 'none';\n",
              "        })();\n",
              "      </script>\n",
              "    </div>\n",
              "\n",
              "  <div id=\"id_e4bf3bd9-9330-4034-a922-60aaa2accd59\">\n",
              "    <style>\n",
              "      .colab-df-generate {\n",
              "        background-color: #E8F0FE;\n",
              "        border: none;\n",
              "        border-radius: 50%;\n",
              "        cursor: pointer;\n",
              "        display: none;\n",
              "        fill: #1967D2;\n",
              "        height: 32px;\n",
              "        padding: 0 0 0 0;\n",
              "        width: 32px;\n",
              "      }\n",
              "\n",
              "      .colab-df-generate:hover {\n",
              "        background-color: #E2EBFA;\n",
              "        box-shadow: 0px 1px 2px rgba(60, 64, 67, 0.3), 0px 1px 3px 1px rgba(60, 64, 67, 0.15);\n",
              "        fill: #174EA6;\n",
              "      }\n",
              "\n",
              "      [theme=dark] .colab-df-generate {\n",
              "        background-color: #3B4455;\n",
              "        fill: #D2E3FC;\n",
              "      }\n",
              "\n",
              "      [theme=dark] .colab-df-generate:hover {\n",
              "        background-color: #434B5C;\n",
              "        box-shadow: 0px 1px 3px 1px rgba(0, 0, 0, 0.15);\n",
              "        filter: drop-shadow(0px 1px 2px rgba(0, 0, 0, 0.3));\n",
              "        fill: #FFFFFF;\n",
              "      }\n",
              "    </style>\n",
              "    <button class=\"colab-df-generate\" onclick=\"generateWithVariable('df')\"\n",
              "            title=\"Generate code using this dataframe.\"\n",
              "            style=\"display:none;\">\n",
              "\n",
              "  <svg xmlns=\"http://www.w3.org/2000/svg\" height=\"24px\"viewBox=\"0 0 24 24\"\n",
              "       width=\"24px\">\n",
              "    <path d=\"M7,19H8.4L18.45,9,17,7.55,7,17.6ZM5,21V16.75L18.45,3.32a2,2,0,0,1,2.83,0l1.4,1.43a1.91,1.91,0,0,1,.58,1.4,1.91,1.91,0,0,1-.58,1.4L9.25,21ZM18.45,9,17,7.55Zm-12,3A5.31,5.31,0,0,0,4.9,8.1,5.31,5.31,0,0,0,1,6.5,5.31,5.31,0,0,0,4.9,4.9,5.31,5.31,0,0,0,6.5,1,5.31,5.31,0,0,0,8.1,4.9,5.31,5.31,0,0,0,12,6.5,5.46,5.46,0,0,0,6.5,12Z\"/>\n",
              "  </svg>\n",
              "    </button>\n",
              "    <script>\n",
              "      (() => {\n",
              "      const buttonEl =\n",
              "        document.querySelector('#id_e4bf3bd9-9330-4034-a922-60aaa2accd59 button.colab-df-generate');\n",
              "      buttonEl.style.display =\n",
              "        google.colab.kernel.accessAllowed ? 'block' : 'none';\n",
              "\n",
              "      buttonEl.onclick = () => {\n",
              "        google.colab.notebook.generateWithVariable('df');\n",
              "      }\n",
              "      })();\n",
              "    </script>\n",
              "  </div>\n",
              "\n",
              "    </div>\n",
              "  </div>\n"
            ],
            "application/vnd.google.colaboratory.intrinsic+json": {
              "type": "dataframe",
              "variable_name": "df",
              "summary": "{\n  \"name\": \"df\",\n  \"rows\": 19104,\n  \"fields\": [\n    {\n      \"column\": \"Unnamed: 0\",\n      \"properties\": {\n        \"dtype\": \"number\",\n        \"std\": 5514,\n        \"min\": 0,\n        \"max\": 19103,\n        \"num_unique_values\": 19104,\n        \"samples\": [\n          18299,\n          9376,\n          4518\n        ],\n        \"semantic_type\": \"\",\n        \"description\": \"\"\n      }\n    },\n    {\n      \"column\": \"MMM-YY\",\n      \"properties\": {\n        \"dtype\": \"object\",\n        \"num_unique_values\": 24,\n        \"samples\": [\n          \"03/01/20\",\n          \"10/01/19\",\n          \"01/01/19\"\n        ],\n        \"semantic_type\": \"\",\n        \"description\": \"\"\n      }\n    },\n    {\n      \"column\": \"Driver_ID\",\n      \"properties\": {\n        \"dtype\": \"number\",\n        \"std\": 810,\n        \"min\": 1,\n        \"max\": 2788,\n        \"num_unique_values\": 2381,\n        \"samples\": [\n          1663,\n          1264,\n          1618\n        ],\n        \"semantic_type\": \"\",\n        \"description\": \"\"\n      }\n    },\n    {\n      \"column\": \"Age\",\n      \"properties\": {\n        \"dtype\": \"number\",\n        \"std\": 6.2579116861907345,\n        \"min\": 21.0,\n        \"max\": 58.0,\n        \"num_unique_values\": 36,\n        \"samples\": [\n          58.0,\n          41.0,\n          24.0\n        ],\n        \"semantic_type\": \"\",\n        \"description\": \"\"\n      }\n    },\n    {\n      \"column\": \"Gender\",\n      \"properties\": {\n        \"dtype\": \"number\",\n        \"std\": 0.4933670037660394,\n        \"min\": 0.0,\n        \"max\": 1.0,\n        \"num_unique_values\": 2,\n        \"samples\": [\n          1.0,\n          0.0\n        ],\n        \"semantic_type\": \"\",\n        \"description\": \"\"\n      }\n    },\n    {\n      \"column\": \"City\",\n      \"properties\": {\n        \"dtype\": \"category\",\n        \"num_unique_values\": 29,\n        \"samples\": [\n          \"C22\",\n          \"C5\"\n        ],\n        \"semantic_type\": \"\",\n        \"description\": \"\"\n      }\n    },\n    {\n      \"column\": \"Education_Level\",\n      \"properties\": {\n        \"dtype\": \"number\",\n        \"std\": 0,\n        \"min\": 0,\n        \"max\": 2,\n        \"num_unique_values\": 3,\n        \"samples\": [\n          2,\n          0\n        ],\n        \"semantic_type\": \"\",\n        \"description\": \"\"\n      }\n    },\n    {\n      \"column\": \"Income\",\n      \"properties\": {\n        \"dtype\": \"number\",\n        \"std\": 30914,\n        \"min\": 10747,\n        \"max\": 188418,\n        \"num_unique_values\": 2383,\n        \"samples\": [\n          44273,\n          35370\n        ],\n        \"semantic_type\": \"\",\n        \"description\": \"\"\n      }\n    },\n    {\n      \"column\": \"Dateofjoining\",\n      \"properties\": {\n        \"dtype\": \"object\",\n        \"num_unique_values\": 869,\n        \"samples\": [\n          \"14/09/19\",\n          \"01/06/18\"\n        ],\n        \"semantic_type\": \"\",\n        \"description\": \"\"\n      }\n    },\n    {\n      \"column\": \"LastWorkingDate\",\n      \"properties\": {\n        \"dtype\": \"date\",\n        \"min\": \"2018-12-31 00:00:00\",\n        \"max\": \"2020-12-28 00:00:00\",\n        \"num_unique_values\": 493,\n        \"samples\": [\n          \"05/03/20\",\n          \"10/01/19\"\n        ],\n        \"semantic_type\": \"\",\n        \"description\": \"\"\n      }\n    },\n    {\n      \"column\": \"Joining Designation\",\n      \"properties\": {\n        \"dtype\": \"number\",\n        \"std\": 0,\n        \"min\": 1,\n        \"max\": 5,\n        \"num_unique_values\": 5,\n        \"samples\": [\n          2,\n          5\n        ],\n        \"semantic_type\": \"\",\n        \"description\": \"\"\n      }\n    },\n    {\n      \"column\": \"Grade\",\n      \"properties\": {\n        \"dtype\": \"number\",\n        \"std\": 1,\n        \"min\": 1,\n        \"max\": 5,\n        \"num_unique_values\": 5,\n        \"samples\": [\n          2,\n          5\n        ],\n        \"semantic_type\": \"\",\n        \"description\": \"\"\n      }\n    },\n    {\n      \"column\": \"Total Business Value\",\n      \"properties\": {\n        \"dtype\": \"number\",\n        \"std\": 1128312,\n        \"min\": -6000000,\n        \"max\": 33747720,\n        \"num_unique_values\": 10181,\n        \"samples\": [\n          431090,\n          720180\n        ],\n        \"semantic_type\": \"\",\n        \"description\": \"\"\n      }\n    },\n    {\n      \"column\": \"Quarterly Rating\",\n      \"properties\": {\n        \"dtype\": \"number\",\n        \"std\": 1,\n        \"min\": 1,\n        \"max\": 4,\n        \"num_unique_values\": 4,\n        \"samples\": [\n          1,\n          3\n        ],\n        \"semantic_type\": \"\",\n        \"description\": \"\"\n      }\n    }\n  ]\n}"
            }
          },
          "metadata": {},
          "execution_count": 2
        }
      ]
    },
    {
      "cell_type": "markdown",
      "source": [
        "# Dataset Shape"
      ],
      "metadata": {
        "id": "BhmotGjxpaZt"
      }
    },
    {
      "cell_type": "code",
      "source": [
        "df.shape"
      ],
      "metadata": {
        "colab": {
          "base_uri": "https://localhost:8080/"
        },
        "id": "e7C__JhdoqeI",
        "outputId": "ed3d7ab8-4412-4b57-a1d9-730146cb90ab"
      },
      "execution_count": 3,
      "outputs": [
        {
          "output_type": "execute_result",
          "data": {
            "text/plain": [
              "(19104, 14)"
            ]
          },
          "metadata": {},
          "execution_count": 3
        }
      ]
    },
    {
      "cell_type": "markdown",
      "source": [
        "The dataset has 19,104 rows and 14 columns."
      ],
      "metadata": {
        "id": "jDjXQJq8pfUM"
      }
    },
    {
      "cell_type": "markdown",
      "source": [
        "# Data Types of Each Column"
      ],
      "metadata": {
        "id": "Ng0YnxcHpmLO"
      }
    },
    {
      "cell_type": "code",
      "source": [
        "df.dtypes"
      ],
      "metadata": {
        "colab": {
          "base_uri": "https://localhost:8080/",
          "height": 523
        },
        "id": "tYw-zZzCpegF",
        "outputId": "ba08bb16-3069-417d-962c-b8df2e1fcb67"
      },
      "execution_count": 6,
      "outputs": [
        {
          "output_type": "execute_result",
          "data": {
            "text/plain": [
              "Unnamed: 0                int64\n",
              "MMM-YY                   object\n",
              "Driver_ID                 int64\n",
              "Age                     float64\n",
              "Gender                  float64\n",
              "City                     object\n",
              "Education_Level           int64\n",
              "Income                    int64\n",
              "Dateofjoining            object\n",
              "LastWorkingDate          object\n",
              "Joining Designation       int64\n",
              "Grade                     int64\n",
              "Total Business Value      int64\n",
              "Quarterly Rating          int64\n",
              "dtype: object"
            ],
            "text/html": [
              "<div>\n",
              "<style scoped>\n",
              "    .dataframe tbody tr th:only-of-type {\n",
              "        vertical-align: middle;\n",
              "    }\n",
              "\n",
              "    .dataframe tbody tr th {\n",
              "        vertical-align: top;\n",
              "    }\n",
              "\n",
              "    .dataframe thead th {\n",
              "        text-align: right;\n",
              "    }\n",
              "</style>\n",
              "<table border=\"1\" class=\"dataframe\">\n",
              "  <thead>\n",
              "    <tr style=\"text-align: right;\">\n",
              "      <th></th>\n",
              "      <th>0</th>\n",
              "    </tr>\n",
              "  </thead>\n",
              "  <tbody>\n",
              "    <tr>\n",
              "      <th>Unnamed: 0</th>\n",
              "      <td>int64</td>\n",
              "    </tr>\n",
              "    <tr>\n",
              "      <th>MMM-YY</th>\n",
              "      <td>object</td>\n",
              "    </tr>\n",
              "    <tr>\n",
              "      <th>Driver_ID</th>\n",
              "      <td>int64</td>\n",
              "    </tr>\n",
              "    <tr>\n",
              "      <th>Age</th>\n",
              "      <td>float64</td>\n",
              "    </tr>\n",
              "    <tr>\n",
              "      <th>Gender</th>\n",
              "      <td>float64</td>\n",
              "    </tr>\n",
              "    <tr>\n",
              "      <th>City</th>\n",
              "      <td>object</td>\n",
              "    </tr>\n",
              "    <tr>\n",
              "      <th>Education_Level</th>\n",
              "      <td>int64</td>\n",
              "    </tr>\n",
              "    <tr>\n",
              "      <th>Income</th>\n",
              "      <td>int64</td>\n",
              "    </tr>\n",
              "    <tr>\n",
              "      <th>Dateofjoining</th>\n",
              "      <td>object</td>\n",
              "    </tr>\n",
              "    <tr>\n",
              "      <th>LastWorkingDate</th>\n",
              "      <td>object</td>\n",
              "    </tr>\n",
              "    <tr>\n",
              "      <th>Joining Designation</th>\n",
              "      <td>int64</td>\n",
              "    </tr>\n",
              "    <tr>\n",
              "      <th>Grade</th>\n",
              "      <td>int64</td>\n",
              "    </tr>\n",
              "    <tr>\n",
              "      <th>Total Business Value</th>\n",
              "      <td>int64</td>\n",
              "    </tr>\n",
              "    <tr>\n",
              "      <th>Quarterly Rating</th>\n",
              "      <td>int64</td>\n",
              "    </tr>\n",
              "  </tbody>\n",
              "</table>\n",
              "</div><br><label><b>dtype:</b> object</label>"
            ]
          },
          "metadata": {},
          "execution_count": 6
        }
      ]
    },
    {
      "cell_type": "markdown",
      "source": [
        "Most of the columns have integer, float and String data types."
      ],
      "metadata": {
        "id": "NLBw_bu7p0tG"
      }
    },
    {
      "cell_type": "markdown",
      "source": [
        "# Missing Value Summary"
      ],
      "metadata": {
        "id": "YgnqF732plti"
      }
    },
    {
      "cell_type": "code",
      "source": [
        "df.isna().sum()"
      ],
      "metadata": {
        "colab": {
          "base_uri": "https://localhost:8080/",
          "height": 523
        },
        "id": "XHBtg0dlqHAQ",
        "outputId": "fa1e5721-e7ba-4ae5-f625-807aac6bc09e"
      },
      "execution_count": 7,
      "outputs": [
        {
          "output_type": "execute_result",
          "data": {
            "text/plain": [
              "Unnamed: 0                  0\n",
              "MMM-YY                      0\n",
              "Driver_ID                   0\n",
              "Age                        61\n",
              "Gender                     52\n",
              "City                        0\n",
              "Education_Level             0\n",
              "Income                      0\n",
              "Dateofjoining               0\n",
              "LastWorkingDate         17488\n",
              "Joining Designation         0\n",
              "Grade                       0\n",
              "Total Business Value        0\n",
              "Quarterly Rating            0\n",
              "dtype: int64"
            ],
            "text/html": [
              "<div>\n",
              "<style scoped>\n",
              "    .dataframe tbody tr th:only-of-type {\n",
              "        vertical-align: middle;\n",
              "    }\n",
              "\n",
              "    .dataframe tbody tr th {\n",
              "        vertical-align: top;\n",
              "    }\n",
              "\n",
              "    .dataframe thead th {\n",
              "        text-align: right;\n",
              "    }\n",
              "</style>\n",
              "<table border=\"1\" class=\"dataframe\">\n",
              "  <thead>\n",
              "    <tr style=\"text-align: right;\">\n",
              "      <th></th>\n",
              "      <th>0</th>\n",
              "    </tr>\n",
              "  </thead>\n",
              "  <tbody>\n",
              "    <tr>\n",
              "      <th>Unnamed: 0</th>\n",
              "      <td>0</td>\n",
              "    </tr>\n",
              "    <tr>\n",
              "      <th>MMM-YY</th>\n",
              "      <td>0</td>\n",
              "    </tr>\n",
              "    <tr>\n",
              "      <th>Driver_ID</th>\n",
              "      <td>0</td>\n",
              "    </tr>\n",
              "    <tr>\n",
              "      <th>Age</th>\n",
              "      <td>61</td>\n",
              "    </tr>\n",
              "    <tr>\n",
              "      <th>Gender</th>\n",
              "      <td>52</td>\n",
              "    </tr>\n",
              "    <tr>\n",
              "      <th>City</th>\n",
              "      <td>0</td>\n",
              "    </tr>\n",
              "    <tr>\n",
              "      <th>Education_Level</th>\n",
              "      <td>0</td>\n",
              "    </tr>\n",
              "    <tr>\n",
              "      <th>Income</th>\n",
              "      <td>0</td>\n",
              "    </tr>\n",
              "    <tr>\n",
              "      <th>Dateofjoining</th>\n",
              "      <td>0</td>\n",
              "    </tr>\n",
              "    <tr>\n",
              "      <th>LastWorkingDate</th>\n",
              "      <td>17488</td>\n",
              "    </tr>\n",
              "    <tr>\n",
              "      <th>Joining Designation</th>\n",
              "      <td>0</td>\n",
              "    </tr>\n",
              "    <tr>\n",
              "      <th>Grade</th>\n",
              "      <td>0</td>\n",
              "    </tr>\n",
              "    <tr>\n",
              "      <th>Total Business Value</th>\n",
              "      <td>0</td>\n",
              "    </tr>\n",
              "    <tr>\n",
              "      <th>Quarterly Rating</th>\n",
              "      <td>0</td>\n",
              "    </tr>\n",
              "  </tbody>\n",
              "</table>\n",
              "</div><br><label><b>dtype:</b> int64</label>"
            ]
          },
          "metadata": {},
          "execution_count": 7
        }
      ]
    },
    {
      "cell_type": "markdown",
      "source": [
        "\n",
        "*   Age has 61 missing values\n",
        "*   Gender has 52 missing values\n",
        "*   LastWorkingDate has 17,488 missing values"
      ],
      "metadata": {
        "id": "VudZr159qbbk"
      }
    },
    {
      "cell_type": "code",
      "source": [],
      "metadata": {
        "id": "-ybtBe9IqOe4"
      },
      "execution_count": null,
      "outputs": []
    },
    {
      "cell_type": "markdown",
      "source": [
        "# Descriptive Statistics:"
      ],
      "metadata": {
        "id": "LHifD7QBr2is"
      }
    },
    {
      "cell_type": "code",
      "source": [
        "df.describe()"
      ],
      "metadata": {
        "colab": {
          "base_uri": "https://localhost:8080/",
          "height": 355
        },
        "id": "h7eLoC-Jr9MN",
        "outputId": "4d971c20-4c32-4e14-9458-1ab1bbb028d3"
      },
      "execution_count": 8,
      "outputs": [
        {
          "output_type": "execute_result",
          "data": {
            "text/plain": [
              "         Unnamed: 0     Driver_ID           Age        Gender  \\\n",
              "count  19104.000000  19104.000000  19043.000000  19052.000000   \n",
              "mean    9551.500000   1415.591133     34.668435      0.418749   \n",
              "std     5514.994107    810.705321      6.257912      0.493367   \n",
              "min        0.000000      1.000000     21.000000      0.000000   \n",
              "25%     4775.750000    710.000000     30.000000      0.000000   \n",
              "50%     9551.500000   1417.000000     34.000000      0.000000   \n",
              "75%    14327.250000   2137.000000     39.000000      1.000000   \n",
              "max    19103.000000   2788.000000     58.000000      1.000000   \n",
              "\n",
              "       Education_Level         Income  Joining Designation         Grade  \\\n",
              "count     19104.000000   19104.000000         19104.000000  19104.000000   \n",
              "mean          1.021671   65652.025126             1.690536      2.252670   \n",
              "std           0.800167   30914.515344             0.836984      1.026512   \n",
              "min           0.000000   10747.000000             1.000000      1.000000   \n",
              "25%           0.000000   42383.000000             1.000000      1.000000   \n",
              "50%           1.000000   60087.000000             1.000000      2.000000   \n",
              "75%           2.000000   83969.000000             2.000000      3.000000   \n",
              "max           2.000000  188418.000000             5.000000      5.000000   \n",
              "\n",
              "       Total Business Value  Quarterly Rating  \n",
              "count          1.910400e+04      19104.000000  \n",
              "mean           5.716621e+05          2.008899  \n",
              "std            1.128312e+06          1.009832  \n",
              "min           -6.000000e+06          1.000000  \n",
              "25%            0.000000e+00          1.000000  \n",
              "50%            2.500000e+05          2.000000  \n",
              "75%            6.997000e+05          3.000000  \n",
              "max            3.374772e+07          4.000000  "
            ],
            "text/html": [
              "\n",
              "  <div id=\"df-45cc0077-2f23-45d1-bce3-799d84b9a5eb\" class=\"colab-df-container\">\n",
              "    <div>\n",
              "<style scoped>\n",
              "    .dataframe tbody tr th:only-of-type {\n",
              "        vertical-align: middle;\n",
              "    }\n",
              "\n",
              "    .dataframe tbody tr th {\n",
              "        vertical-align: top;\n",
              "    }\n",
              "\n",
              "    .dataframe thead th {\n",
              "        text-align: right;\n",
              "    }\n",
              "</style>\n",
              "<table border=\"1\" class=\"dataframe\">\n",
              "  <thead>\n",
              "    <tr style=\"text-align: right;\">\n",
              "      <th></th>\n",
              "      <th>Unnamed: 0</th>\n",
              "      <th>Driver_ID</th>\n",
              "      <th>Age</th>\n",
              "      <th>Gender</th>\n",
              "      <th>Education_Level</th>\n",
              "      <th>Income</th>\n",
              "      <th>Joining Designation</th>\n",
              "      <th>Grade</th>\n",
              "      <th>Total Business Value</th>\n",
              "      <th>Quarterly Rating</th>\n",
              "    </tr>\n",
              "  </thead>\n",
              "  <tbody>\n",
              "    <tr>\n",
              "      <th>count</th>\n",
              "      <td>19104.000000</td>\n",
              "      <td>19104.000000</td>\n",
              "      <td>19043.000000</td>\n",
              "      <td>19052.000000</td>\n",
              "      <td>19104.000000</td>\n",
              "      <td>19104.000000</td>\n",
              "      <td>19104.000000</td>\n",
              "      <td>19104.000000</td>\n",
              "      <td>1.910400e+04</td>\n",
              "      <td>19104.000000</td>\n",
              "    </tr>\n",
              "    <tr>\n",
              "      <th>mean</th>\n",
              "      <td>9551.500000</td>\n",
              "      <td>1415.591133</td>\n",
              "      <td>34.668435</td>\n",
              "      <td>0.418749</td>\n",
              "      <td>1.021671</td>\n",
              "      <td>65652.025126</td>\n",
              "      <td>1.690536</td>\n",
              "      <td>2.252670</td>\n",
              "      <td>5.716621e+05</td>\n",
              "      <td>2.008899</td>\n",
              "    </tr>\n",
              "    <tr>\n",
              "      <th>std</th>\n",
              "      <td>5514.994107</td>\n",
              "      <td>810.705321</td>\n",
              "      <td>6.257912</td>\n",
              "      <td>0.493367</td>\n",
              "      <td>0.800167</td>\n",
              "      <td>30914.515344</td>\n",
              "      <td>0.836984</td>\n",
              "      <td>1.026512</td>\n",
              "      <td>1.128312e+06</td>\n",
              "      <td>1.009832</td>\n",
              "    </tr>\n",
              "    <tr>\n",
              "      <th>min</th>\n",
              "      <td>0.000000</td>\n",
              "      <td>1.000000</td>\n",
              "      <td>21.000000</td>\n",
              "      <td>0.000000</td>\n",
              "      <td>0.000000</td>\n",
              "      <td>10747.000000</td>\n",
              "      <td>1.000000</td>\n",
              "      <td>1.000000</td>\n",
              "      <td>-6.000000e+06</td>\n",
              "      <td>1.000000</td>\n",
              "    </tr>\n",
              "    <tr>\n",
              "      <th>25%</th>\n",
              "      <td>4775.750000</td>\n",
              "      <td>710.000000</td>\n",
              "      <td>30.000000</td>\n",
              "      <td>0.000000</td>\n",
              "      <td>0.000000</td>\n",
              "      <td>42383.000000</td>\n",
              "      <td>1.000000</td>\n",
              "      <td>1.000000</td>\n",
              "      <td>0.000000e+00</td>\n",
              "      <td>1.000000</td>\n",
              "    </tr>\n",
              "    <tr>\n",
              "      <th>50%</th>\n",
              "      <td>9551.500000</td>\n",
              "      <td>1417.000000</td>\n",
              "      <td>34.000000</td>\n",
              "      <td>0.000000</td>\n",
              "      <td>1.000000</td>\n",
              "      <td>60087.000000</td>\n",
              "      <td>1.000000</td>\n",
              "      <td>2.000000</td>\n",
              "      <td>2.500000e+05</td>\n",
              "      <td>2.000000</td>\n",
              "    </tr>\n",
              "    <tr>\n",
              "      <th>75%</th>\n",
              "      <td>14327.250000</td>\n",
              "      <td>2137.000000</td>\n",
              "      <td>39.000000</td>\n",
              "      <td>1.000000</td>\n",
              "      <td>2.000000</td>\n",
              "      <td>83969.000000</td>\n",
              "      <td>2.000000</td>\n",
              "      <td>3.000000</td>\n",
              "      <td>6.997000e+05</td>\n",
              "      <td>3.000000</td>\n",
              "    </tr>\n",
              "    <tr>\n",
              "      <th>max</th>\n",
              "      <td>19103.000000</td>\n",
              "      <td>2788.000000</td>\n",
              "      <td>58.000000</td>\n",
              "      <td>1.000000</td>\n",
              "      <td>2.000000</td>\n",
              "      <td>188418.000000</td>\n",
              "      <td>5.000000</td>\n",
              "      <td>5.000000</td>\n",
              "      <td>3.374772e+07</td>\n",
              "      <td>4.000000</td>\n",
              "    </tr>\n",
              "  </tbody>\n",
              "</table>\n",
              "</div>\n",
              "    <div class=\"colab-df-buttons\">\n",
              "\n",
              "  <div class=\"colab-df-container\">\n",
              "    <button class=\"colab-df-convert\" onclick=\"convertToInteractive('df-45cc0077-2f23-45d1-bce3-799d84b9a5eb')\"\n",
              "            title=\"Convert this dataframe to an interactive table.\"\n",
              "            style=\"display:none;\">\n",
              "\n",
              "  <svg xmlns=\"http://www.w3.org/2000/svg\" height=\"24px\" viewBox=\"0 -960 960 960\">\n",
              "    <path d=\"M120-120v-720h720v720H120Zm60-500h600v-160H180v160Zm220 220h160v-160H400v160Zm0 220h160v-160H400v160ZM180-400h160v-160H180v160Zm440 0h160v-160H620v160ZM180-180h160v-160H180v160Zm440 0h160v-160H620v160Z\"/>\n",
              "  </svg>\n",
              "    </button>\n",
              "\n",
              "  <style>\n",
              "    .colab-df-container {\n",
              "      display:flex;\n",
              "      gap: 12px;\n",
              "    }\n",
              "\n",
              "    .colab-df-convert {\n",
              "      background-color: #E8F0FE;\n",
              "      border: none;\n",
              "      border-radius: 50%;\n",
              "      cursor: pointer;\n",
              "      display: none;\n",
              "      fill: #1967D2;\n",
              "      height: 32px;\n",
              "      padding: 0 0 0 0;\n",
              "      width: 32px;\n",
              "    }\n",
              "\n",
              "    .colab-df-convert:hover {\n",
              "      background-color: #E2EBFA;\n",
              "      box-shadow: 0px 1px 2px rgba(60, 64, 67, 0.3), 0px 1px 3px 1px rgba(60, 64, 67, 0.15);\n",
              "      fill: #174EA6;\n",
              "    }\n",
              "\n",
              "    .colab-df-buttons div {\n",
              "      margin-bottom: 4px;\n",
              "    }\n",
              "\n",
              "    [theme=dark] .colab-df-convert {\n",
              "      background-color: #3B4455;\n",
              "      fill: #D2E3FC;\n",
              "    }\n",
              "\n",
              "    [theme=dark] .colab-df-convert:hover {\n",
              "      background-color: #434B5C;\n",
              "      box-shadow: 0px 1px 3px 1px rgba(0, 0, 0, 0.15);\n",
              "      filter: drop-shadow(0px 1px 2px rgba(0, 0, 0, 0.3));\n",
              "      fill: #FFFFFF;\n",
              "    }\n",
              "  </style>\n",
              "\n",
              "    <script>\n",
              "      const buttonEl =\n",
              "        document.querySelector('#df-45cc0077-2f23-45d1-bce3-799d84b9a5eb button.colab-df-convert');\n",
              "      buttonEl.style.display =\n",
              "        google.colab.kernel.accessAllowed ? 'block' : 'none';\n",
              "\n",
              "      async function convertToInteractive(key) {\n",
              "        const element = document.querySelector('#df-45cc0077-2f23-45d1-bce3-799d84b9a5eb');\n",
              "        const dataTable =\n",
              "          await google.colab.kernel.invokeFunction('convertToInteractive',\n",
              "                                                    [key], {});\n",
              "        if (!dataTable) return;\n",
              "\n",
              "        const docLinkHtml = 'Like what you see? Visit the ' +\n",
              "          '<a target=\"_blank\" href=https://colab.research.google.com/notebooks/data_table.ipynb>data table notebook</a>'\n",
              "          + ' to learn more about interactive tables.';\n",
              "        element.innerHTML = '';\n",
              "        dataTable['output_type'] = 'display_data';\n",
              "        await google.colab.output.renderOutput(dataTable, element);\n",
              "        const docLink = document.createElement('div');\n",
              "        docLink.innerHTML = docLinkHtml;\n",
              "        element.appendChild(docLink);\n",
              "      }\n",
              "    </script>\n",
              "  </div>\n",
              "\n",
              "\n",
              "    <div id=\"df-04d41b96-1841-4c9a-bb8c-95ffade4f323\">\n",
              "      <button class=\"colab-df-quickchart\" onclick=\"quickchart('df-04d41b96-1841-4c9a-bb8c-95ffade4f323')\"\n",
              "                title=\"Suggest charts\"\n",
              "                style=\"display:none;\">\n",
              "\n",
              "<svg xmlns=\"http://www.w3.org/2000/svg\" height=\"24px\"viewBox=\"0 0 24 24\"\n",
              "     width=\"24px\">\n",
              "    <g>\n",
              "        <path d=\"M19 3H5c-1.1 0-2 .9-2 2v14c0 1.1.9 2 2 2h14c1.1 0 2-.9 2-2V5c0-1.1-.9-2-2-2zM9 17H7v-7h2v7zm4 0h-2V7h2v10zm4 0h-2v-4h2v4z\"/>\n",
              "    </g>\n",
              "</svg>\n",
              "      </button>\n",
              "\n",
              "<style>\n",
              "  .colab-df-quickchart {\n",
              "      --bg-color: #E8F0FE;\n",
              "      --fill-color: #1967D2;\n",
              "      --hover-bg-color: #E2EBFA;\n",
              "      --hover-fill-color: #174EA6;\n",
              "      --disabled-fill-color: #AAA;\n",
              "      --disabled-bg-color: #DDD;\n",
              "  }\n",
              "\n",
              "  [theme=dark] .colab-df-quickchart {\n",
              "      --bg-color: #3B4455;\n",
              "      --fill-color: #D2E3FC;\n",
              "      --hover-bg-color: #434B5C;\n",
              "      --hover-fill-color: #FFFFFF;\n",
              "      --disabled-bg-color: #3B4455;\n",
              "      --disabled-fill-color: #666;\n",
              "  }\n",
              "\n",
              "  .colab-df-quickchart {\n",
              "    background-color: var(--bg-color);\n",
              "    border: none;\n",
              "    border-radius: 50%;\n",
              "    cursor: pointer;\n",
              "    display: none;\n",
              "    fill: var(--fill-color);\n",
              "    height: 32px;\n",
              "    padding: 0;\n",
              "    width: 32px;\n",
              "  }\n",
              "\n",
              "  .colab-df-quickchart:hover {\n",
              "    background-color: var(--hover-bg-color);\n",
              "    box-shadow: 0 1px 2px rgba(60, 64, 67, 0.3), 0 1px 3px 1px rgba(60, 64, 67, 0.15);\n",
              "    fill: var(--button-hover-fill-color);\n",
              "  }\n",
              "\n",
              "  .colab-df-quickchart-complete:disabled,\n",
              "  .colab-df-quickchart-complete:disabled:hover {\n",
              "    background-color: var(--disabled-bg-color);\n",
              "    fill: var(--disabled-fill-color);\n",
              "    box-shadow: none;\n",
              "  }\n",
              "\n",
              "  .colab-df-spinner {\n",
              "    border: 2px solid var(--fill-color);\n",
              "    border-color: transparent;\n",
              "    border-bottom-color: var(--fill-color);\n",
              "    animation:\n",
              "      spin 1s steps(1) infinite;\n",
              "  }\n",
              "\n",
              "  @keyframes spin {\n",
              "    0% {\n",
              "      border-color: transparent;\n",
              "      border-bottom-color: var(--fill-color);\n",
              "      border-left-color: var(--fill-color);\n",
              "    }\n",
              "    20% {\n",
              "      border-color: transparent;\n",
              "      border-left-color: var(--fill-color);\n",
              "      border-top-color: var(--fill-color);\n",
              "    }\n",
              "    30% {\n",
              "      border-color: transparent;\n",
              "      border-left-color: var(--fill-color);\n",
              "      border-top-color: var(--fill-color);\n",
              "      border-right-color: var(--fill-color);\n",
              "    }\n",
              "    40% {\n",
              "      border-color: transparent;\n",
              "      border-right-color: var(--fill-color);\n",
              "      border-top-color: var(--fill-color);\n",
              "    }\n",
              "    60% {\n",
              "      border-color: transparent;\n",
              "      border-right-color: var(--fill-color);\n",
              "    }\n",
              "    80% {\n",
              "      border-color: transparent;\n",
              "      border-right-color: var(--fill-color);\n",
              "      border-bottom-color: var(--fill-color);\n",
              "    }\n",
              "    90% {\n",
              "      border-color: transparent;\n",
              "      border-bottom-color: var(--fill-color);\n",
              "    }\n",
              "  }\n",
              "</style>\n",
              "\n",
              "      <script>\n",
              "        async function quickchart(key) {\n",
              "          const quickchartButtonEl =\n",
              "            document.querySelector('#' + key + ' button');\n",
              "          quickchartButtonEl.disabled = true;  // To prevent multiple clicks.\n",
              "          quickchartButtonEl.classList.add('colab-df-spinner');\n",
              "          try {\n",
              "            const charts = await google.colab.kernel.invokeFunction(\n",
              "                'suggestCharts', [key], {});\n",
              "          } catch (error) {\n",
              "            console.error('Error during call to suggestCharts:', error);\n",
              "          }\n",
              "          quickchartButtonEl.classList.remove('colab-df-spinner');\n",
              "          quickchartButtonEl.classList.add('colab-df-quickchart-complete');\n",
              "        }\n",
              "        (() => {\n",
              "          let quickchartButtonEl =\n",
              "            document.querySelector('#df-04d41b96-1841-4c9a-bb8c-95ffade4f323 button');\n",
              "          quickchartButtonEl.style.display =\n",
              "            google.colab.kernel.accessAllowed ? 'block' : 'none';\n",
              "        })();\n",
              "      </script>\n",
              "    </div>\n",
              "\n",
              "    </div>\n",
              "  </div>\n"
            ],
            "application/vnd.google.colaboratory.intrinsic+json": {
              "type": "dataframe",
              "summary": "{\n  \"name\": \"df\",\n  \"rows\": 8,\n  \"fields\": [\n    {\n      \"column\": \"Unnamed: 0\",\n      \"properties\": {\n        \"dtype\": \"number\",\n        \"std\": 6884.95505562544,\n        \"min\": 0.0,\n        \"max\": 19104.0,\n        \"num_unique_values\": 7,\n        \"samples\": [\n          19104.0,\n          9551.5,\n          14327.25\n        ],\n        \"semantic_type\": \"\",\n        \"description\": \"\"\n      }\n    },\n    {\n      \"column\": \"Driver_ID\",\n      \"properties\": {\n        \"dtype\": \"number\",\n        \"std\": 6344.561458172487,\n        \"min\": 1.0,\n        \"max\": 19104.0,\n        \"num_unique_values\": 8,\n        \"samples\": [\n          1415.5911327470687,\n          1417.0,\n          19104.0\n        ],\n        \"semantic_type\": \"\",\n        \"description\": \"\"\n      }\n    },\n    {\n      \"column\": \"Age\",\n      \"properties\": {\n        \"dtype\": \"number\",\n        \"std\": 6721.473927583281,\n        \"min\": 6.2579116861907345,\n        \"max\": 19043.0,\n        \"num_unique_values\": 8,\n        \"samples\": [\n          34.668434595389385,\n          34.0,\n          19043.0\n        ],\n        \"semantic_type\": \"\",\n        \"description\": \"\"\n      }\n    },\n    {\n      \"column\": \"Gender\",\n      \"properties\": {\n        \"dtype\": \"number\",\n        \"std\": 6735.752126331659,\n        \"min\": 0.0,\n        \"max\": 19052.0,\n        \"num_unique_values\": 5,\n        \"samples\": [\n          0.4187486878018056,\n          1.0,\n          0.4933670037660394\n        ],\n        \"semantic_type\": \"\",\n        \"description\": \"\"\n      }\n    },\n    {\n      \"column\": \"Education_Level\",\n      \"properties\": {\n        \"dtype\": \"number\",\n        \"std\": 6753.939461727606,\n        \"min\": 0.0,\n        \"max\": 19104.0,\n        \"num_unique_values\": 6,\n        \"samples\": [\n          19104.0,\n          1.0216708542713568,\n          2.0\n        ],\n        \"semantic_type\": \"\",\n        \"description\": \"\"\n      }\n    },\n    {\n      \"column\": \"Income\",\n      \"properties\": {\n        \"dtype\": \"number\",\n        \"std\": 56436.738053256035,\n        \"min\": 10747.0,\n        \"max\": 188418.0,\n        \"num_unique_values\": 8,\n        \"samples\": [\n          65652.02512562813,\n          60087.0,\n          19104.0\n        ],\n        \"semantic_type\": \"\",\n        \"description\": \"\"\n      }\n    },\n    {\n      \"column\": \"Joining Designation\",\n      \"properties\": {\n        \"dtype\": \"number\",\n        \"std\": 6753.651377555244,\n        \"min\": 0.8369837171189233,\n        \"max\": 19104.0,\n        \"num_unique_values\": 6,\n        \"samples\": [\n          19104.0,\n          1.690536013400335,\n          5.0\n        ],\n        \"semantic_type\": \"\",\n        \"description\": \"\"\n      }\n    },\n    {\n      \"column\": \"Grade\",\n      \"properties\": {\n        \"dtype\": \"number\",\n        \"std\": 6753.512393804842,\n        \"min\": 1.0,\n        \"max\": 19104.0,\n        \"num_unique_values\": 7,\n        \"samples\": [\n          19104.0,\n          2.2526695979899496,\n          3.0\n        ],\n        \"semantic_type\": \"\",\n        \"description\": \"\"\n      }\n    },\n    {\n      \"column\": \"Total Business Value\",\n      \"properties\": {\n        \"dtype\": \"number\",\n        \"std\": 12313845.373558126,\n        \"min\": -6000000.0,\n        \"max\": 33747720.0,\n        \"num_unique_values\": 8,\n        \"samples\": [\n          571662.074958124,\n          250000.0,\n          19104.0\n        ],\n        \"semantic_type\": \"\",\n        \"description\": \"\"\n      }\n    },\n    {\n      \"column\": \"Quarterly Rating\",\n      \"properties\": {\n        \"dtype\": \"number\",\n        \"std\": 6753.57600547721,\n        \"min\": 1.0,\n        \"max\": 19104.0,\n        \"num_unique_values\": 7,\n        \"samples\": [\n          19104.0,\n          2.008898659966499,\n          3.0\n        ],\n        \"semantic_type\": \"\",\n        \"description\": \"\"\n      }\n    }\n  ]\n}"
            }
          },
          "metadata": {},
          "execution_count": 8
        }
      ]
    },
    {
      "cell_type": "markdown",
      "source": [
        "This table shows the mean, min, max, count and standard deviation of all the numeric columns of the dataset"
      ],
      "metadata": {
        "id": "a5QVu1PgsFNG"
      }
    },
    {
      "cell_type": "markdown",
      "source": [
        "# Unique Drivers"
      ],
      "metadata": {
        "id": "cM0DN-Pjr1Qm"
      }
    },
    {
      "cell_type": "code",
      "source": [
        "\n",
        "unique_drivers=len(df[\"Driver_ID\"].unique())"
      ],
      "metadata": {
        "id": "Tg-Ey_ALsSwe"
      },
      "execution_count": 14,
      "outputs": []
    },
    {
      "cell_type": "code",
      "source": [
        "print(unique_drivers)"
      ],
      "metadata": {
        "colab": {
          "base_uri": "https://localhost:8080/"
        },
        "id": "xKHm9OcGsmF-",
        "outputId": "fc4b9bb2-48f4-48f0-930f-638e006f0be1"
      },
      "execution_count": 15,
      "outputs": [
        {
          "output_type": "stream",
          "name": "stdout",
          "text": [
            "2381\n"
          ]
        }
      ]
    },
    {
      "cell_type": "markdown",
      "source": [
        "So there are 2381 unique drivers that are there"
      ],
      "metadata": {
        "id": "hMgL7m1TuP9A"
      }
    },
    {
      "cell_type": "markdown",
      "source": [
        "# Temporal Analysis:"
      ],
      "metadata": {
        "id": "AljEb3GWxkCZ"
      }
    },
    {
      "cell_type": "code",
      "source": [
        "# converting 'Dateofjoining' and 'LastWorkingDate' into datetime format\n",
        "df['Dateofjoining'] = pd.to_datetime(df['Dateofjoining'])\n",
        "df['LastWorkingDate'] = pd.to_datetime(df['LastWorkingDate'])\n"
      ],
      "metadata": {
        "id": "lNmQLlLruCHm"
      },
      "execution_count": 20,
      "outputs": []
    },
    {
      "cell_type": "markdown",
      "source": [
        "converting 'Dateofjoining' and 'LastWorkingDate' into datetime format"
      ],
      "metadata": {
        "id": "YatUgS17x9M0"
      }
    },
    {
      "cell_type": "code",
      "source": [
        "# Count drivers joined each month\n",
        "joined = df['Dateofjoining'].dt.to_period('M').value_counts().sort_index()\n",
        "joined_df = joined.reset_index()\n",
        "joined_df.columns = ['Month', 'Drivers Joined']\n",
        "\n",
        "\n",
        "print(\"Drivers Joined Each Month:\\n\", joined_df)"
      ],
      "metadata": {
        "colab": {
          "base_uri": "https://localhost:8080/"
        },
        "id": "ZdwPMLPtyBGz",
        "outputId": "de3f452e-0eb9-40bd-e317-99088e439d28"
      },
      "execution_count": 22,
      "outputs": [
        {
          "output_type": "stream",
          "name": "stdout",
          "text": [
            "Drivers Joined Each Month:\n",
            "       Month  Drivers Joined\n",
            "0   2013-04              31\n",
            "1   2013-05              24\n",
            "2   2013-06              59\n",
            "3   2013-07              63\n",
            "4   2013-08              33\n",
            "..      ...             ...\n",
            "80  2020-08             325\n",
            "81  2020-09             314\n",
            "82  2020-10             139\n",
            "83  2020-11              93\n",
            "84  2020-12              59\n",
            "\n",
            "[85 rows x 2 columns]\n"
          ]
        }
      ]
    },
    {
      "cell_type": "code",
      "source": [
        "import matplotlib.pyplot as plt\n",
        "\n",
        "# Convert 'Month' column to string for plotting\n",
        "joined_df['Month'] = joined_df['Month'].astype(str)\n",
        "\n",
        "plt.plot(joined_df['Month'], joined_df['Drivers Joined'], marker='o')\n",
        "plt.title('Drivers Joined Each Month')\n",
        "plt.xlabel('Month')\n",
        "plt.ylabel('Drivers Joined')\n",
        "plt.xticks(rotation=45)\n",
        "plt.show()"
      ],
      "metadata": {
        "colab": {
          "base_uri": "https://localhost:8080/",
          "height": 509
        },
        "id": "2nG7EM8S1wKN",
        "outputId": "466a90fb-c789-4f3d-8bc8-b6763087a5ae"
      },
      "execution_count": 47,
      "outputs": [
        {
          "output_type": "display_data",
          "data": {
            "text/plain": [
              "<Figure size 640x480 with 1 Axes>"
            ],
            "image/png": "[encoded data removed]"
          },
          "metadata": {}
        }
      ]
    },
    {
      "cell_type": "code",
      "source": [
        "# Count drivers left each month\n",
        "left = df['LastWorkingDate'].dropna().dt.to_period('M').value_counts().sort_index()\n",
        "left_df = left.reset_index()\n",
        "left_df.columns = ['Month', 'Drivers Left']\n",
        "\n",
        "print(\"\\nDrivers Left Each Month:\\n\", left_df)"
      ],
      "metadata": {
        "colab": {
          "base_uri": "https://localhost:8080/"
        },
        "id": "Kvd7sFEPynUh",
        "outputId": "850d86ba-d6b5-4afe-8576-f0f3798eff65"
      },
      "execution_count": 23,
      "outputs": [
        {
          "output_type": "stream",
          "name": "stdout",
          "text": [
            "\n",
            "Drivers Left Each Month:\n",
            "       Month  Drivers Left\n",
            "0   2018-12             5\n",
            "1   2019-01            82\n",
            "2   2019-02            85\n",
            "3   2019-03            75\n",
            "4   2019-04            49\n",
            "5   2019-05            98\n",
            "6   2019-06            61\n",
            "7   2019-07            48\n",
            "8   2019-08            53\n",
            "9   2019-09            79\n",
            "10  2019-10            70\n",
            "11  2019-11            69\n",
            "12  2019-12            56\n",
            "13  2020-01            70\n",
            "14  2020-02            70\n",
            "15  2020-03            58\n",
            "16  2020-04            42\n",
            "17  2020-05            63\n",
            "18  2020-06            77\n",
            "19  2020-07           141\n",
            "20  2020-08             4\n",
            "21  2020-09            66\n",
            "22  2020-10            62\n",
            "23  2020-11            73\n",
            "24  2020-12            60\n"
          ]
        }
      ]
    },
    {
      "cell_type": "code",
      "source": [
        "plt.plot(left_df['Month'].astype(str), left_df['Drivers Left'], marker='o', color='red')\n",
        "plt.title('Drivers Left Each Month')\n",
        "plt.xlabel('Month')\n",
        "plt.ylabel('Drivers Left')\n",
        "plt.xticks(rotation=45)\n",
        "plt.show()"
      ],
      "metadata": {
        "colab": {
          "base_uri": "https://localhost:8080/",
          "height": 509
        },
        "id": "WY1xqlro2WAn",
        "outputId": "dcc79831-52d3-44a2-c577-9b5e4419b802"
      },
      "execution_count": 46,
      "outputs": [
        {
          "output_type": "display_data",
          "data": {
            "text/plain": [
              "<Figure size 640x480 with 1 Axes>"
            ],
            "image/png": "[encoded data removed]"
          },
          "metadata": {}
        }
      ]
    },
    {
      "cell_type": "markdown",
      "source": [
        "# Average Tenure of Drivers who left"
      ],
      "metadata": {
        "id": "1eCMCbQpuXy4"
      }
    },
    {
      "cell_type": "code",
      "source": [
        "# Tenure for drivers who left\n",
        "df['tenure_days'] = (df['LastWorkingDate'] - df['Dateofjoining']).dt.days\n",
        "avg_tenure_left = df['tenure_days'].mean()\n",
        "print(f\"Average tenure of drivers who left: {avg_tenure_left:.2f} days\")"
      ],
      "metadata": {
        "colab": {
          "base_uri": "https://localhost:8080/"
        },
        "id": "gs42k5jzzRiN",
        "outputId": "058de669-457d-49ed-d12a-510c48e96f66"
      },
      "execution_count": 24,
      "outputs": [
        {
          "output_type": "stream",
          "name": "stdout",
          "text": [
            "Average tenure of drivers who left: 357.57 days\n"
          ]
        }
      ]
    },
    {
      "cell_type": "markdown",
      "source": [
        "# Average Tenure of all the Drivers"
      ],
      "metadata": {
        "id": "r_YIweD_zxw8"
      }
    },
    {
      "cell_type": "code",
      "source": [
        "# Tenure for all drivers (active + left)\n",
        "today = pd.Timestamp.today()\n",
        "df['tenure_all'] = (df['LastWorkingDate'].fillna(today) - df['Dateofjoining']).dt.days\n",
        "avg_tenure_all = df['tenure_all'].mean()\n",
        "print(f\"Average tenure of all drivers: {avg_tenure_all:.2f} days\")"
      ],
      "metadata": {
        "colab": {
          "base_uri": "https://localhost:8080/"
        },
        "id": "cF3nEeOdzT71",
        "outputId": "1acfe697-7449-4b10-9d0c-d7826ccc0cca"
      },
      "execution_count": 28,
      "outputs": [
        {
          "output_type": "stream",
          "name": "stdout",
          "text": [
            "Average tenure of all drivers: 2464.06 days\n"
          ]
        }
      ]
    },
    {
      "cell_type": "code",
      "source": [],
      "metadata": {
        "id": "KtoI-fYO3zNA"
      },
      "execution_count": null,
      "outputs": []
    },
    {
      "cell_type": "markdown",
      "source": [
        "# Feature Engineering"
      ],
      "metadata": {
        "id": "DlpCDlMt3zuL"
      }
    },
    {
      "cell_type": "code",
      "source": [
        "# Creating target column: 1 if driver left, 0 if still working\n",
        "df['Left'] = df['LastWorkingDate'].notna().astype(int)"
      ],
      "metadata": {
        "id": "ky2nc3pN3-E3"
      },
      "execution_count": 40,
      "outputs": []
    },
    {
      "cell_type": "code",
      "source": [
        "# Sample data\n",
        "print(df[['Driver_ID', 'Dateofjoining', 'LastWorkingDate', 'Left']].head())"
      ],
      "metadata": {
        "colab": {
          "base_uri": "https://localhost:8080/"
        },
        "id": "xipB4gos4I8t",
        "outputId": "20c323a2-00a0-475c-b3bf-01f0084c5cb4"
      },
      "execution_count": 41,
      "outputs": [
        {
          "output_type": "stream",
          "name": "stdout",
          "text": [
            "   Driver_ID Dateofjoining LastWorkingDate  Left\n",
            "0          1    2018-12-24             NaT     0\n",
            "1          1    2018-12-24             NaT     0\n",
            "2          1    2018-12-24      2019-03-11     1\n",
            "3          2    2020-11-06             NaT     0\n",
            "4          2    2020-11-06             NaT     0\n"
          ]
        }
      ]
    },
    {
      "cell_type": "code",
      "source": [
        "# Count of left vs active\n",
        "print(\"\\nLeft (1) vs Active (0) drivers:\")\n",
        "print(df['Left'].value_counts())"
      ],
      "metadata": {
        "colab": {
          "base_uri": "https://localhost:8080/"
        },
        "id": "Wv-2582i4MNi",
        "outputId": "4c92be1e-b2a3-4e75-a73a-7d100cdd4eb6"
      },
      "execution_count": 42,
      "outputs": [
        {
          "output_type": "stream",
          "name": "stdout",
          "text": [
            "\n",
            "Left (1) vs Active (0) drivers:\n",
            "Left\n",
            "0    17488\n",
            "1     1616\n",
            "Name: count, dtype: int64\n"
          ]
        }
      ]
    },
    {
      "cell_type": "code",
      "source": [
        "# Bar chart for Left vs Active\n",
        "df['Left'].value_counts().sort_index().plot(kind='bar', color=['green', 'red'])\n",
        "plt.xticks([0, 1], ['Active (0)', 'Left (1)'], rotation=0)\n",
        "plt.title('Driver Status: Active vs Left')\n",
        "plt.xlabel('Status')\n",
        "plt.ylabel('Number of Drivers')\n",
        "plt.show()"
      ],
      "metadata": {
        "colab": {
          "base_uri": "https://localhost:8080/",
          "height": 472
        },
        "id": "pAnolhba4P1N",
        "outputId": "8636f1ce-d11a-4d69-ea29-ff3efd1b4795"
      },
      "execution_count": 45,
      "outputs": [
        {
          "output_type": "display_data",
          "data": {
            "text/plain": [
              "<Figure size 640x480 with 1 Axes>"
            ],
            "image/png": "[encoded data removed]"
          },
          "metadata": {}
        }
      ]
    },
    {
      "cell_type": "markdown",
      "source": [],
      "metadata": {
        "id": "r-solF-y5_k9"
      }
    },
    {
      "cell_type": "code",
      "source": [
        "# Remove exact duplicate rows\n",
        "df = df.drop_duplicates()\n",
        "\n",
        "# Optional: reset index after dropping\n",
        "df = df.reset_index(drop=True)\n",
        "\n",
        "# Check the cleaned data\n",
        "print(df.head())"
      ],
      "metadata": {
        "colab": {
          "base_uri": "https://localhost:8080/"
        },
        "id": "yIWWB2pv7_Hl",
        "outputId": "60415b41-d98a-4a0f-ed96-a05a6955bada"
      },
      "execution_count": 57,
      "outputs": [
        {
          "output_type": "stream",
          "name": "stdout",
          "text": [
            "   Unnamed: 0    MMM-YY  Driver_ID   Age  Gender City  Education_Level  \\\n",
            "0           0  01/01/19          1  28.0     0.0  C23                2   \n",
            "1           1  02/01/19          1  28.0     0.0  C23                2   \n",
            "2           2  03/01/19          1  28.0     0.0  C23                2   \n",
            "3           3  11/01/20          2  31.0     0.0   C7                2   \n",
            "4           4  12/01/20          2  31.0     0.0   C7                2   \n",
            "\n",
            "   Income Dateofjoining LastWorkingDate  ...  Day_of_Week_Joining  \\\n",
            "0   57387    2018-12-24             NaT  ...                    0   \n",
            "1   57387    2018-12-24             NaT  ...                    0   \n",
            "2   57387    2018-12-24      2019-03-11  ...                    0   \n",
            "3   67016    2020-11-06             NaT  ...                    4   \n",
            "4   67016    2020-11-06             NaT  ...                    4   \n",
            "\n",
            "   Quarter_of_Joining  Tenure_Group_Left  Tenure_Group_All  Year_Joining  \\\n",
            "0                   4                NaN          >3 Years          2018   \n",
            "1                   4                NaN          >3 Years          2018   \n",
            "2                   4          <3 Months         <3 Months          2018   \n",
            "3                   4                NaN          >3 Years          2020   \n",
            "4                   4                NaN          >3 Years          2020   \n",
            "\n",
            "   Month_Joining  DayOfWeek_Joining  Quarter_Joining  TenureGroup_Left  \\\n",
            "0             12                  0                4               NaN   \n",
            "1             12                  0                4               NaN   \n",
            "2             12                  0                4         <3 Months   \n",
            "3             11                  4                4               NaN   \n",
            "4             11                  4                4               NaN   \n",
            "\n",
            "   TenureGroup_All  \n",
            "0         >3 Years  \n",
            "1         >3 Years  \n",
            "2        <3 Months  \n",
            "3         >3 Years  \n",
            "4         >3 Years  \n",
            "\n",
            "[5 rows x 31 columns]\n"
          ]
        }
      ]
    },
    {
      "cell_type": "code",
      "source": [
        "# Show duplicates based on Driver_ID and Dateofjoining\n",
        "duplicates = df[df.duplicated(subset=['Driver_ID', 'Dateofjoining'])]\n",
        "print(duplicates)"
      ],
      "metadata": {
        "colab": {
          "base_uri": "https://localhost:8080/"
        },
        "id": "CCeFhusG8Xhk",
        "outputId": "25bb8159-db2d-4d15-f9f6-044b21e86b32"
      },
      "execution_count": 63,
      "outputs": [
        {
          "output_type": "stream",
          "name": "stdout",
          "text": [
            "       Unnamed: 0    MMM-YY  Driver_ID   Age  Gender City  Education_Level  \\\n",
            "1               1  02/01/19          1  28.0     0.0  C23                2   \n",
            "2               2  03/01/19          1  28.0     0.0  C23                2   \n",
            "4               4  12/01/20          2  31.0     0.0   C7                2   \n",
            "6               6  01/01/20          4  43.0     0.0  C13                2   \n",
            "7               7  02/01/20          4  43.0     0.0  C13                2   \n",
            "...           ...       ...        ...   ...     ...  ...              ...   \n",
            "19099       19099  08/01/20       2788  30.0     0.0  C27                2   \n",
            "19100       19100  09/01/20       2788  30.0     0.0  C27                2   \n",
            "19101       19101  10/01/20       2788  30.0     0.0  C27                2   \n",
            "19102       19102  11/01/20       2788  30.0     0.0  C27                2   \n",
            "19103       19103  12/01/20       2788  30.0     0.0  C27                2   \n",
            "\n",
            "       Income Dateofjoining LastWorkingDate  ...  Day_of_Week_Joining  \\\n",
            "1       57387    2018-12-24             NaT  ...                    0   \n",
            "2       57387    2018-12-24      2019-03-11  ...                    0   \n",
            "4       67016    2020-11-06             NaT  ...                    4   \n",
            "6       65603    2019-12-07             NaT  ...                    5   \n",
            "7       65603    2019-12-07             NaT  ...                    5   \n",
            "...       ...           ...             ...  ...                  ...   \n",
            "19099   70254    2020-06-08             NaT  ...                    0   \n",
            "19100   70254    2020-06-08             NaT  ...                    0   \n",
            "19101   70254    2020-06-08             NaT  ...                    0   \n",
            "19102   70254    2020-06-08             NaT  ...                    0   \n",
            "19103   70254    2020-06-08             NaT  ...                    0   \n",
            "\n",
            "       Quarter_of_Joining  Tenure_Group_Left  Tenure_Group_All  Year_Joining  \\\n",
            "1                       4                NaN          >3 Years          2018   \n",
            "2                       4          <3 Months         <3 Months          2018   \n",
            "4                       4                NaN          >3 Years          2020   \n",
            "6                       4                NaN          >3 Years          2019   \n",
            "7                       4                NaN          >3 Years          2019   \n",
            "...                   ...                ...               ...           ...   \n",
            "19099                   2                NaN          >3 Years          2020   \n",
            "19100                   2                NaN          >3 Years          2020   \n",
            "19101                   2                NaN          >3 Years          2020   \n",
            "19102                   2                NaN          >3 Years          2020   \n",
            "19103                   2                NaN          >3 Years          2020   \n",
            "\n",
            "       Month_Joining  DayOfWeek_Joining  Quarter_Joining  TenureGroup_Left  \\\n",
            "1                 12                  0                4               NaN   \n",
            "2                 12                  0                4         <3 Months   \n",
            "4                 11                  4                4               NaN   \n",
            "6                 12                  5                4               NaN   \n",
            "7                 12                  5                4               NaN   \n",
            "...              ...                ...              ...               ...   \n",
            "19099              6                  0                2               NaN   \n",
            "19100              6                  0                2               NaN   \n",
            "19101              6                  0                2               NaN   \n",
            "19102              6                  0                2               NaN   \n",
            "19103              6                  0                2               NaN   \n",
            "\n",
            "       TenureGroup_All  \n",
            "1             >3 Years  \n",
            "2            <3 Months  \n",
            "4             >3 Years  \n",
            "6             >3 Years  \n",
            "7             >3 Years  \n",
            "...                ...  \n",
            "19099         >3 Years  \n",
            "19100         >3 Years  \n",
            "19101         >3 Years  \n",
            "19102         >3 Years  \n",
            "19103         >3 Years  \n",
            "\n",
            "[16723 rows x 31 columns]\n"
          ]
        }
      ]
    },
    {
      "cell_type": "code",
      "source": [
        "# Show all duplicate rows\n",
        "duplicates = df[df.duplicated()]\n",
        "print(duplicates)"
      ],
      "metadata": {
        "colab": {
          "base_uri": "https://localhost:8080/"
        },
        "id": "LA2GLXHB8fUP",
        "outputId": "0f88d583-f88b-418b-8581-fa746d974eb8"
      },
      "execution_count": 64,
      "outputs": [
        {
          "output_type": "stream",
          "name": "stdout",
          "text": [
            "Empty DataFrame\n",
            "Columns: [Unnamed: 0, MMM-YY, Driver_ID, Age, Gender, City, Education_Level, Income, Dateofjoining, LastWorkingDate, Joining Designation, Grade, Total Business Value, Quarterly Rating, tenure, current_tenure, tenure_days, tenure_all, Left, Year_of_Joining, Month_of_Joining, Day_of_Week_Joining, Quarter_of_Joining, Tenure_Group_Left, Tenure_Group_All, Year_Joining, Month_Joining, DayOfWeek_Joining, Quarter_Joining, TenureGroup_Left, TenureGroup_All]\n",
            "Index: []\n",
            "\n",
            "[0 rows x 31 columns]\n"
          ]
        }
      ]
    },
    {
      "cell_type": "code",
      "source": [
        "# 1. Year, Month, Day of Week, Quarter from joining date\n",
        "df['Year_Joining'] = df['Dateofjoining'].dt.year\n",
        "df['Month_Joining'] = df['Dateofjoining'].dt.month\n",
        "df['DayOfWeek_Joining'] = df['Dateofjoining'].dt.dayofweek  # 0 = Monday\n",
        "df['Quarter_Joining'] = df['Dateofjoining'].dt.quarter\n",
        "\n",
        "df_unique = df.drop_duplicates(subset=['Driver_ID', 'Dateofjoining'])\n",
        "print(df_unique[['Driver_ID', 'Dateofjoining', 'Year_Joining', 'Month_Joining', 'DayOfWeek_Joining', 'Quarter_Joining']].head())\n"
      ],
      "metadata": {
        "colab": {
          "base_uri": "https://localhost:8080/"
        },
        "id": "ovFMJVHh5-3m",
        "outputId": "92aab449-041a-4a4a-e66c-da6051a9f4f6"
      },
      "execution_count": 66,
      "outputs": [
        {
          "output_type": "stream",
          "name": "stdout",
          "text": [
            "    Driver_ID Dateofjoining  Year_Joining  Month_Joining  DayOfWeek_Joining  \\\n",
            "0           1    2018-12-24          2018             12                  0   \n",
            "3           2    2020-11-06          2020             11                  4   \n",
            "5           4    2019-12-07          2019             12                  5   \n",
            "10          5    2019-01-09          2019              1                  2   \n",
            "13          6    2020-07-31          2020              7                  4   \n",
            "\n",
            "    Quarter_Joining  \n",
            "0                 4  \n",
            "3                 4  \n",
            "5                 4  \n",
            "10                1  \n",
            "13                3  \n"
          ]
        }
      ]
    },
    {
      "cell_type": "code",
      "source": [
        "# 2. Tenure group for drivers who left (based on days worked)\n",
        "tenure_bins = [0, 90, 180, 365, 730, df['tenure_days'].max()]\n",
        "tenure_labels = ['<3 Months', '3-6 Months', '6-12 Months', '1-2 Years', '>2 Years']\n",
        "df['TenureGroup_Left'] = pd.cut(df['tenure_days'], bins=tenure_bins, labels=tenure_labels, right=False)\n",
        "\n",
        "print(df['TenureGroup_Left'].value_counts(dropna=False))\n"
      ],
      "metadata": {
        "colab": {
          "base_uri": "https://localhost:8080/"
        },
        "id": "h5dtS8Eo6Gxj",
        "outputId": "ee461482-e503-4e69-fc9a-d3e8bf7f0f35"
      },
      "execution_count": 61,
      "outputs": [
        {
          "output_type": "stream",
          "name": "stdout",
          "text": [
            "TenureGroup_Left\n",
            "NaN            17489\n",
            "3-6 Months       475\n",
            "6-12 Months      359\n",
            "<3 Months        349\n",
            "1-2 Years        222\n",
            ">2 Years         210\n",
            "Name: count, dtype: int64\n"
          ]
        }
      ]
    },
    {
      "cell_type": "code",
      "source": [],
      "metadata": {
        "id": "BO-5qkA96omX"
      },
      "execution_count": null,
      "outputs": []
    },
    {
      "cell_type": "code",
      "source": [
        "# 3. Tenure group for all drivers (including active ones)\n",
        "tenure_bins_all = [0, 90, 180, 365, 730, 1095, df['tenure_all'].max()]\n",
        "tenure_labels_all = ['<3 Months', '3-6 Months', '6-12 Months', '1-2 Years', '2-3 Years', '>3 Years']\n",
        "df['TenureGroup_All'] = pd.cut(df['tenure_all'], bins=tenure_bins_all, labels=tenure_labels_all, right=False)\n",
        "\n",
        "print(df['TenureGroup_All'].value_counts(dropna=False))\n"
      ],
      "metadata": {
        "colab": {
          "base_uri": "https://localhost:8080/"
        },
        "id": "jN8yT_C66Khy",
        "outputId": "8c820977-fbda-4b5d-81ef-eab5f94bce90"
      },
      "execution_count": 62,
      "outputs": [
        {
          "output_type": "stream",
          "name": "stdout",
          "text": [
            "TenureGroup_All\n",
            ">3 Years       17600\n",
            "3-6 Months       475\n",
            "6-12 Months      359\n",
            "<3 Months        349\n",
            "1-2 Years        222\n",
            "2-3 Years         75\n",
            "NaN               24\n",
            "Name: count, dtype: int64\n"
          ]
        }
      ]
    },
    {
      "cell_type": "code",
      "source": [],
      "metadata": {
        "id": "cAFeB1j65jVb"
      },
      "execution_count": null,
      "outputs": []
    }
  ]
}